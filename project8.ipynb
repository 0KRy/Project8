{
 "cells": [
  {
   "cell_type": "code",
   "execution_count": null,
   "id": "c195afdf",
   "metadata": {},
   "outputs": [],
   "source": [
    "import pandas as pd\n",
    "from sklearn.model_selection import train_test_split\n",
    "from sklearn.preprocessing import StandardScaler\n",
    "from sklearn.neural_network import MLPClassifier\n",
    "from sklearn.metrics import classification_report,confusion_matrix\n",
    "from sklearn.preprocessing import OneHotEncoder\n",
    "from sklearn.metrics import precision_recall_fscore_support\n",
    "from sklearn.tree import export_graphviz\n",
    "from IPython.display import SVG\n",
    "from sklearn.tree import DecisionTreeClassifier\n",
    "from sklearn import tree\n",
    "\n",
    "import warnings\n",
    "warnings.filterwarnings('ignore')\n",
    "\n",
    "# read in dataframe\n",
    "df = pd.read_csv('mushrooms.csv', names=['Class', 'cap_shape', 'cap_surface', 'cap_color', 'bruises', 'odor', 'gill_attachment', \n",
    "                                         'gill_spacing', 'gill_size', 'gill_color', 'stalk_shape', 'stalk_root', \n",
    "                                         'stalk_surface', 'stalk_surface_above_ring', 'stalk_surface_below_ring', \n",
    "                                         'viel_type', 'veil_color', 'ring_number', 'ring_type', 'spore_print_color', \n",
    "                                         'population', 'habitat'])\n",
    "\n",
    "# quantify variables in the dataframe\n",
    "cap_shape = pd.get_dummies(df.cap_shape, dtype=int)\n",
    "cap_shape.columns = ['01', '02', '03', '04', '05']\n",
    "cap_surface = pd.get_dummies(df.cap_surface, dtype=int)\n",
    "cap_surface.columns = ['06', '07', '08', '09', '10', '11', '12', '13', '14', '15', '16']\n",
    "cap_color = pd.get_dummies(df.cap_color, dtype=int)\n",
    "cap_color.columns = ['17', '18', '19']\n",
    "bruises = pd.get_dummies(df.bruises, dtype=int)\n",
    "bruises.columns = ['20', '21', '22', '23', '24', '25', '26', '27', '28', '29']\n",
    "all = pd.concat([cap_shape, cap_surface, cap_color, bruises], axis=1)\n",
    "display(all)"
   ]
  },
  {
   "cell_type": "markdown",
   "id": "677b0472",
   "metadata": {},
   "source": [
    "### Split data"
   ]
  },
  {
   "cell_type": "code",
   "execution_count": null,
   "id": "0b0d4a2a",
   "metadata": {},
   "outputs": [],
   "source": [
    "X = all.drop('class')\n",
    "y = df.index[1:]\n",
    "\n",
    "X_train, X_test, y_train, y_test = train_test_split(X, y)\n",
    "\n",
    "# scale all data\n",
    "scaler = StandardScaler()\n",
    "scaler.fit(X_train)\n",
    "X_train = scaler.transform(X_train)\n",
    "X_test = scaler.transform(X_test)"
   ]
  },
  {
   "cell_type": "markdown",
   "id": "52213a22",
   "metadata": {},
   "source": [
    "### Neural nets"
   ]
  },
  {
   "cell_type": "code",
   "execution_count": null,
   "id": "acadca38-760d-4604-9f28-f2e0cbd925b6",
   "metadata": {},
   "outputs": [],
   "source": [
    "# do neural net training\n",
    "iterations = 30\n",
    "fold = 10\n",
    "\n",
    "spread = []\n",
    "for i in range(iterations):\n",
    "    # confusion matrix info\n",
    "    precision = []\n",
    "    recall = []\n",
    "    f1 = []\n",
    "\n",
    "    # neural net info\n",
    "    mlp = MLPClassifier(hidden_layer_sizes=(2, 1), max_iter=iterations)\n",
    "    mlp.fit(X_train,y_train)\n",
    "\n",
    "    # fold cross validation\n",
    "    while (len(f1) < fold):\n",
    "        predictions = mlp.predict(X_test)\n",
    "        matrix = confusion_matrix(y_test, predictions)\n",
    "       \n",
    "        if (len(matrix) == 2):\n",
    "            precision.append(matrix[0][0] / (matrix[0][0] + matrix[0][1]))\n",
    "            recall.append(matrix[0][0] / (matrix[0][0] + matrix[1][0]))\n",
    "            f1.append((2 * precision[-1] * recall[-1]) / (precision[-1] + recall[-1]))\n",
    "\n",
    "    display(spread)\n",
    "    spread.append(sum(f1) / len(f1))\n",
    "\n"
   ]
  },
  {
   "cell_type": "code",
   "execution_count": null,
   "id": "732274bc-93c4-43d5-9b70-c074f91e59ae",
   "metadata": {},
   "outputs": [],
   "source": [
    "import matplotlib.pyplot as plt\n",
    " \n",
    "# plotting labelled histogram\n",
    "plt.hist(spread)\n",
    "plt.xlabel('f1 Scores')\n",
    "plt.ylabel('Occurance')\n",
    "plt.show()"
   ]
  },
  {
   "cell_type": "markdown",
   "id": "777e4058",
   "metadata": {},
   "source": [
    "### Decision Tree"
   ]
  },
  {
   "cell_type": "code",
   "execution_count": null,
   "id": "b98ab480",
   "metadata": {},
   "outputs": [],
   "source": [
    "pip install graphviz # run this if you get an error in hte next block"
   ]
  },
  {
   "cell_type": "code",
   "execution_count": null,
   "id": "8e01241a",
   "metadata": {},
   "outputs": [],
   "source": [
    "\n",
    "# You may need to install the Python graphviz library. At the command line:\n",
    "#   pip install graphviz\n",
    "# You will also need to install the graphviz executables. You can use apt,\n",
    "# macports, or other installer for your system.\n",
    "from graphviz import Source\n"
   ]
  },
  {
   "cell_type": "code",
   "execution_count": null,
   "id": "051e936c",
   "metadata": {},
   "outputs": [],
   "source": [
    "# get fresh data\n",
    "#df = pd.read_csv('mushrooms.csv')\n",
    "#X = df.loc[:, df.columns != 'class']\n",
    "#y = df.loc[:, df.columns == 'class']\n",
    "\n",
    "#X_train, X_test, y_train, y_test = train_test_split(X, y)\n"
   ]
  },
  {
   "cell_type": "code",
   "execution_count": null,
   "id": "9e6fc098",
   "metadata": {},
   "outputs": [],
   "source": [
    "# depth 3\n",
    "treeclf = DecisionTreeClassifier(max_depth=3, random_state=1)\n",
    "treeclf.fit(X_train, y_train)\n",
    "y_pred = treeclf.predict(X_test)"
   ]
  },
  {
   "cell_type": "code",
   "execution_count": null,
   "id": "778e193d",
   "metadata": {},
   "outputs": [],
   "source": [
    "# feature_cols = ['cap_shape', 'cap_surface', 'cap_color', 'bruises', 'odor', 'gill_attachment', 'gill_spacing', 'gill_size', 'gill_color', 'stalk_shape', 'stalk_root', 'stalk_surface', 'stalk_surface_above_ring', 'stalk_surface_below_ring', 'viel_type', 'veil_color', 'ring_number', 'ring_type', 'spore_print_color', 'population', 'habitat']\n",
    "graph = Source(tree.export_graphviz(treeclf, out_file=None,\n",
    "                                    class_names=['e', 'p'], filled = True))\n",
    "display(SVG(graph.pipe(format='svg')))"
   ]
  },
  {
   "cell_type": "code",
   "execution_count": null,
   "id": "bb2b48a3",
   "metadata": {},
   "outputs": [],
   "source": [
    "p,r,f,s = precision_recall_fscore_support(y_test.tolist(), y_pred, labels=['p','e'])\n",
    "print(p, r, f)"
   ]
  },
  {
   "cell_type": "markdown",
   "id": "0ab2f218",
   "metadata": {},
   "source": [
    "### max depth 6"
   ]
  },
  {
   "cell_type": "code",
   "execution_count": null,
   "id": "2c15d613",
   "metadata": {},
   "outputs": [],
   "source": [
    "treeclfsev = DecisionTreeClassifier(max_depth=6, random_state=1)\n",
    "treeclfsev.fit(X_train, y_train)\n",
    "y_pred = treeclfsev.predict(X_test)"
   ]
  },
  {
   "cell_type": "code",
   "execution_count": null,
   "id": "b6416d2e",
   "metadata": {},
   "outputs": [],
   "source": [
    "graph = Source(tree.export_graphviz(treeclfsev, out_file=None,\n",
    "                                    class_names=['e', 'p'], filled = True))\n",
    "display(SVG(graph.pipe(format='svg')))"
   ]
  },
  {
   "cell_type": "code",
   "execution_count": null,
   "id": "5a7f988b",
   "metadata": {},
   "outputs": [],
   "source": [
    "p,r,f,s = precision_recall_fscore_support(y_test.tolist(), y_pred, labels=['p','e'])\n",
    "print(p, r, f)"
   ]
  },
  {
   "cell_type": "code",
   "execution_count": null,
   "id": "84d6de61",
   "metadata": {},
   "outputs": [],
   "source": []
  }
 ],
 "metadata": {
  "kernelspec": {
   "display_name": "Python 3 (ipykernel)",
   "language": "python",
   "name": "python3"
  },
  "language_info": {
   "codemirror_mode": {
    "name": "ipython",
    "version": 3
   },
   "file_extension": ".py",
   "mimetype": "text/x-python",
   "name": "python",
   "nbconvert_exporter": "python",
   "pygments_lexer": "ipython3",
   "version": "3.11.5"
  }
 },
 "nbformat": 4,
 "nbformat_minor": 5
}
